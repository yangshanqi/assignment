{
 "cells": [
  {
   "cell_type": "code",
   "execution_count": 1,
   "metadata": {
    "collapsed": true
   },
   "outputs": [],
   "source": [
    "import numpy as np\n",
    "import pandas as pd\n",
    "from scipy.io import loadmat\n",
    "import matplotlib.pyplot as plt"
   ]
  },
  {
   "cell_type": "code",
   "execution_count": 2,
   "metadata": {
    "collapsed": true
   },
   "outputs": [],
   "source": [
    "import sys\n",
    "sys.path.append(r\"C:\\Users\\yangshanqi\\Documents\\lab\\labgithubcopy\\task_1_version_3\")"
   ]
  },
  {
   "cell_type": "code",
   "execution_count": 3,
   "metadata": {
    "collapsed": true
   },
   "outputs": [],
   "source": [
    "#from calculation_score import cal_score\n",
    "from NN_function_with_kFold import nn_predict_with_distance_adjust\n",
    "from NN_function_with_kFold import nn_predict_with_distance_adjust_presion\n",
    "from NN_function_with_kFold import nn_validation\n",
    "from plot_prediction import nn_plot_prediction"
   ]
  },
  {
   "cell_type": "code",
   "execution_count": 4,
   "metadata": {
    "collapsed": true
   },
   "outputs": [],
   "source": [
    "from NN_function_with_kFold import nn_feature_selection_wrap\n",
    "from NN_function_with_kFold import nn_validation"
   ]
  },
  {
   "cell_type": "code",
   "execution_count": 5,
   "metadata": {
    "collapsed": true
   },
   "outputs": [],
   "source": [
    "from kNN_function_with_kFold import kNN_k_parameter_adjust\n",
    "from kNN_function_with_kFold import kNN_data_ratio_adjust\n",
    "#from kNN_function import kNN_data_ratio_adjust_2\n",
    "from kNN_function_with_kFold import kNN_k_parameter_adjust_with_specific_data_ratio \n",
    "from plot_prediction import kNN_plot_prediction"
   ]
  },
  {
   "cell_type": "code",
   "execution_count": 6,
   "metadata": {
    "collapsed": true
   },
   "outputs": [],
   "source": [
    "X_scaled_FCNN=pd.read_csv(\"C:\\\\Users\\\\yangshanqi\\\\Documents\\\\lab\\\\labgithubcopy\\\\task_1_version_2\\\\result\\\\X_scaled_FCNN.csv\")\n",
    "y_scaled_FCNN=pd.read_csv(\"C:\\\\Users\\\\yangshanqi\\\\Documents\\\\lab\\\\labgithubcopy\\\\task_1_version_2\\\\result\\\\y_scaled_FCNN.csv\")\n",
    "X_scaled_CNN=pd.read_csv(\"C:\\\\Users\\\\yangshanqi\\\\Documents\\\\lab\\\\labgithubcopy\\\\task_1_version_2\\\\result\\\\X_scaled_CNN.csv\")\n",
    "y_scaled_CNN=pd.read_csv(\"C:\\\\Users\\\\yangshanqi\\\\Documents\\\\lab\\\\labgithubcopy\\\\task_1_version_2\\\\result\\\\y_scaled_CNN.csv\")\n",
    "X_scaled_kMeans=pd.read_csv(\"C:\\\\Users\\\\yangshanqi\\\\Documents\\\\lab\\\\labgithubcopy\\\\task_1_version_2\\\\result\\\\X_scaled_kMeans.csv\")\n",
    "y_scaled_kMeans=pd.read_csv(\"C:\\\\Users\\\\yangshanqi\\\\Documents\\\\lab\\\\labgithubcopy\\\\task_1_version_2\\\\result\\\\y_scaled_kMeans.csv\")\n",
    "X_val=pd.read_csv(\"C:\\\\Users\\\\yangshanqi\\\\Documents\\\\lab\\\\labgithubcopy\\\\task_1_version_2\\\\result\\\\scaled_validation_feature.csv\")\n",
    "y_val=pd.read_csv(\"C:\\\\Users\\\\yangshanqi\\\\Documents\\\\lab\\\\labgithubcopy\\\\task_1_version_2\\\\result\\\\validation_label.csv\")\n",
    "X_scaled_kMeans=X_scaled_kMeans.drop(\"predict_cluster\",1)\n",
    "y_scaled_kMeans=y_scaled_kMeans.drop(\"predict_cluster\",1)\n",
    "X_val=X_val.drop(\"Unnamed: 0\",1)\n",
    "y_val=y_val.drop(\"Unnamed: 0\",1)"
   ]
  },
  {
   "cell_type": "code",
   "execution_count": 6,
   "metadata": {
    "collapsed": true
   },
   "outputs": [],
   "source": [
    "X_scaled=pd.read_csv(\"C:\\\\Users\\\\yangshanqi\\\\Documents\\\\lab\\\\labgithubcopy\\\\task_1_version_2\\\\result\\\\scaled_train_feature.csv\")\n",
    "y_scaled=pd.read_csv(\"C:\\\\Users\\\\yangshanqi\\\\Documents\\\\lab\\\\labgithubcopy\\\\task_1_version_2\\\\result\\\\train_label.csv\")\n",
    "\n",
    "X_scaled_outlier_detection = pd.read_csv(\"C:\\\\Users\\\\yangshanqi\\\\Documents\\\\lab\\\\labgithubcopy\\\\task_1_version_2\\\\result\\\\X_train_after_detection.csv\")\n",
    "y_scaled_outlier_detection = pd.read_csv(\"C:\\\\Users\\\\yangshanqi\\\\Documents\\\\lab\\\\labgithubcopy\\\\task_1_version_2\\\\result\\\\y_train_after_detection.csv\")\n",
    "X_scaled_outlier_detection = X_scaled_outlier_detection.drop(\"Unnamed: 0\",1)\n",
    "X_scaled_outlier_detection = X_scaled_outlier_detection.drop(\"robust_dis\",1)\n",
    "y_scaled_outlier_detection =y_scaled_outlier_detection.drop(\"Unnamed: 0\",1)\n",
    "y_scaled_outlier_detection =y_scaled_outlier_detection.drop(\"Unnamed: 0.1\",1)\n",
    "y_scaled_outlier_detection =y_scaled_outlier_detection.drop(\"robust_dis\",1)"
   ]
  },
  {
   "cell_type": "code",
   "execution_count": 7,
   "metadata": {},
   "outputs": [
    {
     "name": "stdout",
     "output_type": "stream",
     "text": [
      "the total executing time:  1.7minute\n"
     ]
    }
   ],
   "source": [
    "k_value=20\n",
    "kNN_scaled_CNN_result_data_ratio=kNN_data_ratio_adjust(X_scaled_CNN,y_scaled_CNN,k_value)"
   ]
  },
  {
   "cell_type": "code",
   "execution_count": 8,
   "metadata": {},
   "outputs": [
    {
     "data": {
      "text/html": [
       "<div>\n",
       "<style>\n",
       "    .dataframe thead tr:only-child th {\n",
       "        text-align: right;\n",
       "    }\n",
       "\n",
       "    .dataframe thead th {\n",
       "        text-align: left;\n",
       "    }\n",
       "\n",
       "    .dataframe tbody tr th {\n",
       "        vertical-align: top;\n",
       "    }\n",
       "</style>\n",
       "<table border=\"1\" class=\"dataframe\">\n",
       "  <thead>\n",
       "    <tr style=\"text-align: right;\">\n",
       "      <th></th>\n",
       "      <th>label_1_amount</th>\n",
       "      <th>label_2_amount</th>\n",
       "      <th>ratio</th>\n",
       "      <th>time</th>\n",
       "      <th>f1_score</th>\n",
       "      <th>TPR</th>\n",
       "      <th>FPR</th>\n",
       "      <th>BER</th>\n",
       "    </tr>\n",
       "  </thead>\n",
       "  <tbody>\n",
       "    <tr>\n",
       "      <th>0</th>\n",
       "      <td>40000</td>\n",
       "      <td>10000</td>\n",
       "      <td>4.00</td>\n",
       "      <td>0.377431</td>\n",
       "      <td>0.710673</td>\n",
       "      <td>0.65824</td>\n",
       "      <td>0.048520</td>\n",
       "      <td>0.195140</td>\n",
       "    </tr>\n",
       "    <tr>\n",
       "      <th>1</th>\n",
       "      <td>35000</td>\n",
       "      <td>10000</td>\n",
       "      <td>3.50</td>\n",
       "      <td>0.373138</td>\n",
       "      <td>0.727148</td>\n",
       "      <td>0.68490</td>\n",
       "      <td>0.056800</td>\n",
       "      <td>0.185950</td>\n",
       "    </tr>\n",
       "    <tr>\n",
       "      <th>2</th>\n",
       "      <td>30000</td>\n",
       "      <td>10000</td>\n",
       "      <td>3.00</td>\n",
       "      <td>0.291790</td>\n",
       "      <td>0.744467</td>\n",
       "      <td>0.71340</td>\n",
       "      <td>0.067673</td>\n",
       "      <td>0.177137</td>\n",
       "    </tr>\n",
       "    <tr>\n",
       "      <th>3</th>\n",
       "      <td>25000</td>\n",
       "      <td>10000</td>\n",
       "      <td>2.50</td>\n",
       "      <td>0.244169</td>\n",
       "      <td>0.764463</td>\n",
       "      <td>0.74946</td>\n",
       "      <td>0.084480</td>\n",
       "      <td>0.167510</td>\n",
       "    </tr>\n",
       "    <tr>\n",
       "      <th>4</th>\n",
       "      <td>20000</td>\n",
       "      <td>10000</td>\n",
       "      <td>2.00</td>\n",
       "      <td>0.192564</td>\n",
       "      <td>0.786119</td>\n",
       "      <td>0.78150</td>\n",
       "      <td>0.103350</td>\n",
       "      <td>0.160925</td>\n",
       "    </tr>\n",
       "    <tr>\n",
       "      <th>5</th>\n",
       "      <td>15000</td>\n",
       "      <td>10000</td>\n",
       "      <td>1.50</td>\n",
       "      <td>0.150116</td>\n",
       "      <td>0.814105</td>\n",
       "      <td>0.82350</td>\n",
       "      <td>0.133053</td>\n",
       "      <td>0.154777</td>\n",
       "    </tr>\n",
       "    <tr>\n",
       "      <th>6</th>\n",
       "      <td>10000</td>\n",
       "      <td>10000</td>\n",
       "      <td>1.00</td>\n",
       "      <td>0.112718</td>\n",
       "      <td>0.845372</td>\n",
       "      <td>0.86566</td>\n",
       "      <td>0.182300</td>\n",
       "      <td>0.158320</td>\n",
       "    </tr>\n",
       "    <tr>\n",
       "      <th>7</th>\n",
       "      <td>7500</td>\n",
       "      <td>10000</td>\n",
       "      <td>0.75</td>\n",
       "      <td>0.095357</td>\n",
       "      <td>0.866066</td>\n",
       "      <td>0.89178</td>\n",
       "      <td>0.223467</td>\n",
       "      <td>0.165843</td>\n",
       "    </tr>\n",
       "    <tr>\n",
       "      <th>8</th>\n",
       "      <td>5000</td>\n",
       "      <td>10000</td>\n",
       "      <td>0.50</td>\n",
       "      <td>0.074398</td>\n",
       "      <td>0.894457</td>\n",
       "      <td>0.92138</td>\n",
       "      <td>0.277600</td>\n",
       "      <td>0.178110</td>\n",
       "    </tr>\n",
       "    <tr>\n",
       "      <th>9</th>\n",
       "      <td>2500</td>\n",
       "      <td>10000</td>\n",
       "      <td>0.25</td>\n",
       "      <td>0.056653</td>\n",
       "      <td>0.929444</td>\n",
       "      <td>0.95348</td>\n",
       "      <td>0.392960</td>\n",
       "      <td>0.219740</td>\n",
       "    </tr>\n",
       "  </tbody>\n",
       "</table>\n",
       "</div>"
      ],
      "text/plain": [
       "   label_1_amount  label_2_amount  ratio      time  f1_score      TPR  \\\n",
       "0           40000           10000   4.00  0.377431  0.710673  0.65824   \n",
       "1           35000           10000   3.50  0.373138  0.727148  0.68490   \n",
       "2           30000           10000   3.00  0.291790  0.744467  0.71340   \n",
       "3           25000           10000   2.50  0.244169  0.764463  0.74946   \n",
       "4           20000           10000   2.00  0.192564  0.786119  0.78150   \n",
       "5           15000           10000   1.50  0.150116  0.814105  0.82350   \n",
       "6           10000           10000   1.00  0.112718  0.845372  0.86566   \n",
       "7            7500           10000   0.75  0.095357  0.866066  0.89178   \n",
       "8            5000           10000   0.50  0.074398  0.894457  0.92138   \n",
       "9            2500           10000   0.25  0.056653  0.929444  0.95348   \n",
       "\n",
       "        FPR       BER  \n",
       "0  0.048520  0.195140  \n",
       "1  0.056800  0.185950  \n",
       "2  0.067673  0.177137  \n",
       "3  0.084480  0.167510  \n",
       "4  0.103350  0.160925  \n",
       "5  0.133053  0.154777  \n",
       "6  0.182300  0.158320  \n",
       "7  0.223467  0.165843  \n",
       "8  0.277600  0.178110  \n",
       "9  0.392960  0.219740  "
      ]
     },
     "execution_count": 8,
     "metadata": {},
     "output_type": "execute_result"
    }
   ],
   "source": [
    "kNN_scaled_CNN_result_data_ratio"
   ]
  },
  {
   "cell_type": "code",
   "execution_count": 6,
   "metadata": {
    "collapsed": true
   },
   "outputs": [],
   "source": [
    "NN_scaled_CNN_result_presion=nn_predict_with_distance_adjust_presion(X_scaled_CNN,y_scaled_CNN,0.49,0.52)"
   ]
  },
  {
   "cell_type": "code",
   "execution_count": 7,
   "metadata": {
    "collapsed": true
   },
   "outputs": [
    {
     "data": {
      "text/html": [
       "<div>\n",
       "<style>\n",
       "    .dataframe thead tr:only-child th {\n",
       "        text-align: right;\n",
       "    }\n",
       "\n",
       "    .dataframe thead th {\n",
       "        text-align: left;\n",
       "    }\n",
       "\n",
       "    .dataframe tbody tr th {\n",
       "        vertical-align: top;\n",
       "    }\n",
       "</style>\n",
       "<table border=\"1\" class=\"dataframe\">\n",
       "  <thead>\n",
       "    <tr style=\"text-align: right;\">\n",
       "      <th></th>\n",
       "      <th>alpha</th>\n",
       "      <th>f1_score</th>\n",
       "      <th>TPR</th>\n",
       "      <th>FPR</th>\n",
       "      <th>BER</th>\n",
       "    </tr>\n",
       "  </thead>\n",
       "  <tbody>\n",
       "    <tr>\n",
       "      <th>0</th>\n",
       "      <td>0.490</td>\n",
       "      <td>0.718650</td>\n",
       "      <td>0.740196</td>\n",
       "      <td>0.138822</td>\n",
       "      <td>0.199313</td>\n",
       "    </tr>\n",
       "    <tr>\n",
       "      <th>1</th>\n",
       "      <td>0.491</td>\n",
       "      <td>0.719584</td>\n",
       "      <td>0.745088</td>\n",
       "      <td>0.141444</td>\n",
       "      <td>0.198178</td>\n",
       "    </tr>\n",
       "    <tr>\n",
       "      <th>2</th>\n",
       "      <td>0.492</td>\n",
       "      <td>0.721064</td>\n",
       "      <td>0.750783</td>\n",
       "      <td>0.143983</td>\n",
       "      <td>0.196600</td>\n",
       "    </tr>\n",
       "    <tr>\n",
       "      <th>3</th>\n",
       "      <td>0.493</td>\n",
       "      <td>0.722683</td>\n",
       "      <td>0.756288</td>\n",
       "      <td>0.146158</td>\n",
       "      <td>0.194935</td>\n",
       "    </tr>\n",
       "    <tr>\n",
       "      <th>4</th>\n",
       "      <td>0.494</td>\n",
       "      <td>0.725030</td>\n",
       "      <td>0.763550</td>\n",
       "      <td>0.148797</td>\n",
       "      <td>0.192623</td>\n",
       "    </tr>\n",
       "    <tr>\n",
       "      <th>5</th>\n",
       "      <td>0.495</td>\n",
       "      <td>0.727104</td>\n",
       "      <td>0.770735</td>\n",
       "      <td>0.151668</td>\n",
       "      <td>0.190466</td>\n",
       "    </tr>\n",
       "    <tr>\n",
       "      <th>6</th>\n",
       "      <td>0.496</td>\n",
       "      <td>0.729244</td>\n",
       "      <td>0.777806</td>\n",
       "      <td>0.154307</td>\n",
       "      <td>0.188250</td>\n",
       "    </tr>\n",
       "    <tr>\n",
       "      <th>7</th>\n",
       "      <td>0.497</td>\n",
       "      <td>0.729499</td>\n",
       "      <td>0.782394</td>\n",
       "      <td>0.157444</td>\n",
       "      <td>0.187525</td>\n",
       "    </tr>\n",
       "    <tr>\n",
       "      <th>8</th>\n",
       "      <td>0.498</td>\n",
       "      <td>0.729269</td>\n",
       "      <td>0.787248</td>\n",
       "      <td>0.161394</td>\n",
       "      <td>0.187073</td>\n",
       "    </tr>\n",
       "    <tr>\n",
       "      <th>9</th>\n",
       "      <td>0.499</td>\n",
       "      <td>0.729144</td>\n",
       "      <td>0.791186</td>\n",
       "      <td>0.164564</td>\n",
       "      <td>0.186689</td>\n",
       "    </tr>\n",
       "    <tr>\n",
       "      <th>10</th>\n",
       "      <td>0.500</td>\n",
       "      <td>0.728420</td>\n",
       "      <td>0.794512</td>\n",
       "      <td>0.168000</td>\n",
       "      <td>0.186744</td>\n",
       "    </tr>\n",
       "    <tr>\n",
       "      <th>11</th>\n",
       "      <td>0.501</td>\n",
       "      <td>0.728192</td>\n",
       "      <td>0.797569</td>\n",
       "      <td>0.170656</td>\n",
       "      <td>0.186543</td>\n",
       "    </tr>\n",
       "    <tr>\n",
       "      <th>12</th>\n",
       "      <td>0.502</td>\n",
       "      <td>0.727876</td>\n",
       "      <td>0.800933</td>\n",
       "      <td>0.173610</td>\n",
       "      <td>0.186339</td>\n",
       "    </tr>\n",
       "    <tr>\n",
       "      <th>13</th>\n",
       "      <td>0.503</td>\n",
       "      <td>0.726712</td>\n",
       "      <td>0.802615</td>\n",
       "      <td>0.176415</td>\n",
       "      <td>0.186900</td>\n",
       "    </tr>\n",
       "    <tr>\n",
       "      <th>14</th>\n",
       "      <td>0.504</td>\n",
       "      <td>0.726396</td>\n",
       "      <td>0.805673</td>\n",
       "      <td>0.179154</td>\n",
       "      <td>0.186740</td>\n",
       "    </tr>\n",
       "    <tr>\n",
       "      <th>15</th>\n",
       "      <td>0.505</td>\n",
       "      <td>0.725750</td>\n",
       "      <td>0.808004</td>\n",
       "      <td>0.181809</td>\n",
       "      <td>0.186903</td>\n",
       "    </tr>\n",
       "    <tr>\n",
       "      <th>16</th>\n",
       "      <td>0.506</td>\n",
       "      <td>0.725112</td>\n",
       "      <td>0.810565</td>\n",
       "      <td>0.184598</td>\n",
       "      <td>0.187016</td>\n",
       "    </tr>\n",
       "    <tr>\n",
       "      <th>17</th>\n",
       "      <td>0.507</td>\n",
       "      <td>0.724679</td>\n",
       "      <td>0.812974</td>\n",
       "      <td>0.187021</td>\n",
       "      <td>0.187024</td>\n",
       "    </tr>\n",
       "    <tr>\n",
       "      <th>18</th>\n",
       "      <td>0.508</td>\n",
       "      <td>0.723985</td>\n",
       "      <td>0.814998</td>\n",
       "      <td>0.189494</td>\n",
       "      <td>0.187248</td>\n",
       "    </tr>\n",
       "    <tr>\n",
       "      <th>19</th>\n",
       "      <td>0.509</td>\n",
       "      <td>0.722888</td>\n",
       "      <td>0.817751</td>\n",
       "      <td>0.193095</td>\n",
       "      <td>0.187672</td>\n",
       "    </tr>\n",
       "    <tr>\n",
       "      <th>20</th>\n",
       "      <td>0.510</td>\n",
       "      <td>0.722186</td>\n",
       "      <td>0.819089</td>\n",
       "      <td>0.195104</td>\n",
       "      <td>0.188007</td>\n",
       "    </tr>\n",
       "    <tr>\n",
       "      <th>21</th>\n",
       "      <td>0.511</td>\n",
       "      <td>0.721649</td>\n",
       "      <td>0.822414</td>\n",
       "      <td>0.198407</td>\n",
       "      <td>0.187996</td>\n",
       "    </tr>\n",
       "    <tr>\n",
       "      <th>22</th>\n",
       "      <td>0.512</td>\n",
       "      <td>0.720771</td>\n",
       "      <td>0.824134</td>\n",
       "      <td>0.200929</td>\n",
       "      <td>0.188398</td>\n",
       "    </tr>\n",
       "    <tr>\n",
       "      <th>23</th>\n",
       "      <td>0.513</td>\n",
       "      <td>0.720453</td>\n",
       "      <td>0.826313</td>\n",
       "      <td>0.203004</td>\n",
       "      <td>0.188346</td>\n",
       "    </tr>\n",
       "    <tr>\n",
       "      <th>24</th>\n",
       "      <td>0.514</td>\n",
       "      <td>0.719087</td>\n",
       "      <td>0.828148</td>\n",
       "      <td>0.206357</td>\n",
       "      <td>0.189104</td>\n",
       "    </tr>\n",
       "    <tr>\n",
       "      <th>25</th>\n",
       "      <td>0.515</td>\n",
       "      <td>0.718353</td>\n",
       "      <td>0.830058</td>\n",
       "      <td>0.208846</td>\n",
       "      <td>0.189394</td>\n",
       "    </tr>\n",
       "    <tr>\n",
       "      <th>26</th>\n",
       "      <td>0.516</td>\n",
       "      <td>0.718083</td>\n",
       "      <td>0.833002</td>\n",
       "      <td>0.211519</td>\n",
       "      <td>0.189258</td>\n",
       "    </tr>\n",
       "    <tr>\n",
       "      <th>27</th>\n",
       "      <td>0.517</td>\n",
       "      <td>0.716965</td>\n",
       "      <td>0.834722</td>\n",
       "      <td>0.214407</td>\n",
       "      <td>0.189842</td>\n",
       "    </tr>\n",
       "    <tr>\n",
       "      <th>28</th>\n",
       "      <td>0.518</td>\n",
       "      <td>0.715483</td>\n",
       "      <td>0.836366</td>\n",
       "      <td>0.217776</td>\n",
       "      <td>0.190705</td>\n",
       "    </tr>\n",
       "    <tr>\n",
       "      <th>29</th>\n",
       "      <td>0.519</td>\n",
       "      <td>0.714320</td>\n",
       "      <td>0.837895</td>\n",
       "      <td>0.220631</td>\n",
       "      <td>0.191368</td>\n",
       "    </tr>\n",
       "    <tr>\n",
       "      <th>30</th>\n",
       "      <td>0.520</td>\n",
       "      <td>0.713101</td>\n",
       "      <td>0.840379</td>\n",
       "      <td>0.224315</td>\n",
       "      <td>0.191968</td>\n",
       "    </tr>\n",
       "  </tbody>\n",
       "</table>\n",
       "</div>"
      ],
      "text/plain": [
       "    alpha  f1_score       TPR       FPR       BER\n",
       "0   0.490  0.718650  0.740196  0.138822  0.199313\n",
       "1   0.491  0.719584  0.745088  0.141444  0.198178\n",
       "2   0.492  0.721064  0.750783  0.143983  0.196600\n",
       "3   0.493  0.722683  0.756288  0.146158  0.194935\n",
       "4   0.494  0.725030  0.763550  0.148797  0.192623\n",
       "5   0.495  0.727104  0.770735  0.151668  0.190466\n",
       "6   0.496  0.729244  0.777806  0.154307  0.188250\n",
       "7   0.497  0.729499  0.782394  0.157444  0.187525\n",
       "8   0.498  0.729269  0.787248  0.161394  0.187073\n",
       "9   0.499  0.729144  0.791186  0.164564  0.186689\n",
       "10  0.500  0.728420  0.794512  0.168000  0.186744\n",
       "11  0.501  0.728192  0.797569  0.170656  0.186543\n",
       "12  0.502  0.727876  0.800933  0.173610  0.186339\n",
       "13  0.503  0.726712  0.802615  0.176415  0.186900\n",
       "14  0.504  0.726396  0.805673  0.179154  0.186740\n",
       "15  0.505  0.725750  0.808004  0.181809  0.186903\n",
       "16  0.506  0.725112  0.810565  0.184598  0.187016\n",
       "17  0.507  0.724679  0.812974  0.187021  0.187024\n",
       "18  0.508  0.723985  0.814998  0.189494  0.187248\n",
       "19  0.509  0.722888  0.817751  0.193095  0.187672\n",
       "20  0.510  0.722186  0.819089  0.195104  0.188007\n",
       "21  0.511  0.721649  0.822414  0.198407  0.187996\n",
       "22  0.512  0.720771  0.824134  0.200929  0.188398\n",
       "23  0.513  0.720453  0.826313  0.203004  0.188346\n",
       "24  0.514  0.719087  0.828148  0.206357  0.189104\n",
       "25  0.515  0.718353  0.830058  0.208846  0.189394\n",
       "26  0.516  0.718083  0.833002  0.211519  0.189258\n",
       "27  0.517  0.716965  0.834722  0.214407  0.189842\n",
       "28  0.518  0.715483  0.836366  0.217776  0.190705\n",
       "29  0.519  0.714320  0.837895  0.220631  0.191368\n",
       "30  0.520  0.713101  0.840379  0.224315  0.191968"
      ]
     },
     "execution_count": 7,
     "metadata": {},
     "output_type": "execute_result"
    }
   ],
   "source": [
    "NN_scaled_CNN_result_presion"
   ]
  },
  {
   "cell_type": "code",
   "execution_count": 24,
   "metadata": {},
   "outputs": [
    {
     "data": {
      "text/plain": [
       "4"
      ]
     },
     "execution_count": 24,
     "metadata": {},
     "output_type": "execute_result"
    }
   ],
   "source": [
    "len(parameter_list)"
   ]
  },
  {
   "cell_type": "code",
   "execution_count": 26,
   "metadata": {},
   "outputs": [
    {
     "ename": "SyntaxError",
     "evalue": "invalid syntax (<ipython-input-26-2f64b25b21e8>, line 1)",
     "output_type": "error",
     "traceback": [
      "\u001b[1;36m  File \u001b[1;32m\"<ipython-input-26-2f64b25b21e8>\"\u001b[1;36m, line \u001b[1;32m1\u001b[0m\n\u001b[1;33m    String []\u001b[0m\n\u001b[1;37m            ^\u001b[0m\n\u001b[1;31mSyntaxError\u001b[0m\u001b[1;31m:\u001b[0m invalid syntax\n"
     ]
    }
   ],
   "source": [
    "String []"
   ]
  },
  {
   "cell_type": "code",
   "execution_count": 12,
   "metadata": {
    "collapsed": true
   },
   "outputs": [],
   "source": [
    "StringName =[\"asd\",\"fgh\",\"hjk\"]"
   ]
  },
  {
   "cell_type": "code",
   "execution_count": 13,
   "metadata": {
    "collapsed": true
   },
   "outputs": [],
   "source": [
    "StringName.append(\"zxc\")"
   ]
  },
  {
   "cell_type": "code",
   "execution_count": 14,
   "metadata": {},
   "outputs": [
    {
     "data": {
      "text/plain": [
       "['asd', 'fgh', 'hjk', 'zxc']"
      ]
     },
     "execution_count": 14,
     "metadata": {},
     "output_type": "execute_result"
    }
   ],
   "source": [
    "StringName"
   ]
  },
  {
   "cell_type": "code",
   "execution_count": 9,
   "metadata": {
    "collapsed": true
   },
   "outputs": [],
   "source": [
    "StringName_2 =[\"asd\",\"fgh\",\"hjk\"]"
   ]
  },
  {
   "cell_type": "code",
   "execution_count": 10,
   "metadata": {
    "collapsed": true
   },
   "outputs": [],
   "source": [
    "StringName.append(StringName_2)"
   ]
  },
  {
   "cell_type": "code",
   "execution_count": 28,
   "metadata": {},
   "outputs": [
    {
     "data": {
      "text/plain": [
       "'asd'"
      ]
     },
     "execution_count": 28,
     "metadata": {},
     "output_type": "execute_result"
    }
   ],
   "source": [
    "StringName [0]"
   ]
  },
  {
   "cell_type": "code",
   "execution_count": 11,
   "metadata": {},
   "outputs": [
    {
     "data": {
      "text/plain": [
       "['asd', 'fgh', 'hjk', ['asd', 'fgh', 'hjk']]"
      ]
     },
     "execution_count": 11,
     "metadata": {},
     "output_type": "execute_result"
    }
   ],
   "source": [
    "StringName"
   ]
  }
 ],
 "metadata": {
  "kernelspec": {
   "display_name": "Python 3",
   "language": "python",
   "name": "python3"
  },
  "language_info": {
   "codemirror_mode": {
    "name": "ipython",
    "version": 3
   },
   "file_extension": ".py",
   "mimetype": "text/x-python",
   "name": "python",
   "nbconvert_exporter": "python",
   "pygments_lexer": "ipython3",
   "version": "3.6.2"
  }
 },
 "nbformat": 4,
 "nbformat_minor": 2
}
