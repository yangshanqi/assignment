{
 "cells": [
  {
   "cell_type": "code",
   "execution_count": 1,
   "metadata": {
    "collapsed": true
   },
   "outputs": [],
   "source": [
    "import numpy as np\n",
    "import pandas as pd\n",
    "from scipy.io import loadmat\n",
    "import matplotlib.pyplot as plt"
   ]
  },
  {
   "cell_type": "code",
   "execution_count": 2,
   "metadata": {},
   "outputs": [],
   "source": [
    "import sys\n",
    "sys.path.append(r\"C:\\Users\\yangshanqi\\Documents\\lab\\labgithubcopy\\task_1_version_2\")\n",
    "from SVC_function_with_kFold import SVM_validation"
   ]
  },
  {
   "cell_type": "code",
   "execution_count": 3,
   "metadata": {},
   "outputs": [],
   "source": [
    "from kNN_function_with_kFold import kNN_validation"
   ]
  },
  {
   "cell_type": "code",
   "execution_count": 4,
   "metadata": {
    "collapsed": true
   },
   "outputs": [],
   "source": [
    "X_scaled_CNN=pd.read_csv(\"C:\\\\Users\\\\yangshanqi\\\\Documents\\\\lab\\\\labgithubcopy\\\\task_1_version_2\\\\result\\\\X_scaled_CNN.csv\")\n",
    "y_scaled_CNN=pd.read_csv(\"C:\\\\Users\\\\yangshanqi\\\\Documents\\\\lab\\\\labgithubcopy\\\\task_1_version_2\\\\result\\\\y_scaled_CNN.csv\")\n",
    "X_val=pd.read_csv(\"C:\\\\Users\\\\yangshanqi\\\\Documents\\\\lab\\\\labgithubcopy\\\\task_1_version_2\\\\result\\\\scaled_validation_feature.csv\")\n",
    "y_val=pd.read_csv(\"C:\\\\Users\\\\yangshanqi\\\\Documents\\\\lab\\\\labgithubcopy\\\\task_1_version_2\\\\result\\\\validation_label.csv\")\n",
    "X_val=X_val.drop(\"Unnamed: 0\",1)\n",
    "y_val=y_val.drop(\"Unnamed: 0\",1)\n",
    "X_scaled=pd.read_csv(\"C:\\\\Users\\\\yangshanqi\\\\Documents\\\\lab\\\\labgithubcopy\\\\task_1_version_2\\\\result\\\\scaled_train_feature.csv\")\n",
    "y_scaled=pd.read_csv(\"C:\\\\Users\\\\yangshanqi\\\\Documents\\\\lab\\\\labgithubcopy\\\\task_1_version_2\\\\result\\\\train_label.csv\")"
   ]
  },
  {
   "cell_type": "code",
   "execution_count": 10,
   "metadata": {},
   "outputs": [],
   "source": [
    "sample_amount=10000\n",
    "data_ratio=1.2\n",
    "C_parameter=3\n",
    "gamma_parameter=-1\n",
    "tpr,fpr,BER,f1_score = SVM_validation (X_scaled_CNN,y_scaled_CNN,X_val,y_val,sample_amount,data_ratio,C_parameter,gamma_parameter)"
   ]
  },
  {
   "cell_type": "code",
   "execution_count": 11,
   "metadata": {},
   "outputs": [
    {
     "data": {
      "text/plain": [
       "(0.5066043083900227,\n",
       " 0.11402699037691766,\n",
       " 0.30371134099344754,\n",
       " 0.44094370514944203)"
      ]
     },
     "execution_count": 11,
     "metadata": {},
     "output_type": "execute_result"
    }
   ],
   "source": [
    "tpr,fpr,BER,f1_score"
   ]
  },
  {
   "cell_type": "code",
   "execution_count": 12,
   "metadata": {
    "collapsed": true
   },
   "outputs": [],
   "source": [
    "sample_amount=10000\n",
    "data_ratio=1.2\n",
    "C_parameter=-1\n",
    "gamma_parameter=-1\n",
    "tpr,fpr,BER,f1_score = SVM_validation (X_scaled_CNN,y_scaled_CNN,X_val,y_val,sample_amount,data_ratio,C_parameter,gamma_parameter)"
   ]
  },
  {
   "cell_type": "code",
   "execution_count": 13,
   "metadata": {},
   "outputs": [
    {
     "data": {
      "text/plain": [
       "(0.5066043083900227,\n",
       " 0.10647474962014147,\n",
       " 0.2999352206150594,\n",
       " 0.45124743561934866)"
      ]
     },
     "execution_count": 13,
     "metadata": {},
     "output_type": "execute_result"
    }
   ],
   "source": [
    "tpr,fpr,BER,f1_score"
   ]
  },
  {
   "cell_type": "code",
   "execution_count": 14,
   "metadata": {
    "collapsed": true
   },
   "outputs": [],
   "source": [
    "sample_amount=10000\n",
    "data_ratio=1.2\n",
    "C_parameter=5\n",
    "gamma_parameter=-1\n",
    "tpr,fpr,BER,f1_score = SVM_validation (X_scaled_CNN,y_scaled_CNN,X_val,y_val,sample_amount,data_ratio,C_parameter,gamma_parameter)"
   ]
  },
  {
   "cell_type": "code",
   "execution_count": 15,
   "metadata": {},
   "outputs": [
    {
     "data": {
      "text/plain": [
       "(0.5294784580498866,\n",
       " 0.12476105674187593,\n",
       " 0.2976412993459946,\n",
       " 0.44205425755671846)"
      ]
     },
     "execution_count": 15,
     "metadata": {},
     "output_type": "execute_result"
    }
   ],
   "source": [
    "tpr,fpr,BER,f1_score"
   ]
  },
  {
   "cell_type": "code",
   "execution_count": 16,
   "metadata": {
    "collapsed": true
   },
   "outputs": [],
   "source": [
    "sample_amount=10000\n",
    "data_ratio=1.2\n",
    "C_parameter=11\n",
    "gamma_parameter=-5\n",
    "tpr,fpr,BER,f1_score = SVM_validation (X_scaled_CNN,y_scaled_CNN,X_val,y_val,sample_amount,data_ratio,C_parameter,gamma_parameter)"
   ]
  },
  {
   "cell_type": "code",
   "execution_count": 17,
   "metadata": {
    "scrolled": true
   },
   "outputs": [
    {
     "data": {
      "text/plain": [
       "(0.5057256235827664,\n",
       " 0.10362785302334701,\n",
       " 0.29895111472029023,\n",
       " 0.45453319596230923)"
      ]
     },
     "execution_count": 17,
     "metadata": {},
     "output_type": "execute_result"
    }
   ],
   "source": [
    "tpr,fpr,BER,f1_score"
   ]
  },
  {
   "cell_type": "code",
   "execution_count": 5,
   "metadata": {},
   "outputs": [],
   "source": [
    "sample_amount=10000\n",
    "data_ratio=1.2\n",
    "kValue = 20\n",
    "tpr,fpr,BER,f1_score = kNN_validation (X_scaled_CNN,y_scaled_CNN,X_val,y_val,sample_amount,data_ratio,kValue)"
   ]
  },
  {
   "cell_type": "code",
   "execution_count": 6,
   "metadata": {},
   "outputs": [
    {
     "data": {
      "text/plain": [
       "(0.5674716553287982,\n",
       " 0.1333115493325927,\n",
       " 0.28291994700189727,\n",
       " 0.45529974001822027)"
      ]
     },
     "execution_count": 6,
     "metadata": {},
     "output_type": "execute_result"
    }
   ],
   "source": [
    "tpr,fpr,BER,f1_score"
   ]
  },
  {
   "cell_type": "code",
   "execution_count": 9,
   "metadata": {
    "collapsed": true
   },
   "outputs": [],
   "source": [
    "sample_amount=10000\n",
    "data_ratio=1\n",
    "kValue = 20\n",
    "tpr,fpr,BER,f1_score = kNN_validation (X_scaled_CNN,y_scaled_CNN,X_val,y_val,sample_amount,data_ratio,kValue)"
   ]
  },
  {
   "cell_type": "code",
   "execution_count": 10,
   "metadata": {},
   "outputs": [
    {
     "data": {
      "text/plain": [
       "(0.6191383219954648,\n",
       " 0.1569722417370562,\n",
       " 0.26891695987079567,\n",
       " 0.45709641723289246)"
      ]
     },
     "execution_count": 10,
     "metadata": {},
     "output_type": "execute_result"
    }
   ],
   "source": [
    "tpr,fpr,BER,f1_score "
   ]
  },
  {
   "cell_type": "code",
   "execution_count": 7,
   "metadata": {
    "collapsed": true
   },
   "outputs": [],
   "source": [
    "sample_amount=10000\n",
    "data_ratio=1.2\n",
    "kValue = 50\n",
    "tpr,fpr,BER,f1_score = kNN_validation (X_scaled_CNN,y_scaled_CNN,X_val,y_val,sample_amount,data_ratio,kValue)"
   ]
  },
  {
   "cell_type": "code",
   "execution_count": 8,
   "metadata": {},
   "outputs": [
    {
     "data": {
      "text/plain": [
       "(0.5942063492063492,\n",
       " 0.1284411913670005,\n",
       " 0.26711742108032566,\n",
       " 0.47816902414548423)"
      ]
     },
     "execution_count": 8,
     "metadata": {},
     "output_type": "execute_result"
    }
   ],
   "source": [
    "tpr,fpr,BER,f1_score"
   ]
  },
  {
   "cell_type": "code",
   "execution_count": 11,
   "metadata": {
    "collapsed": true
   },
   "outputs": [],
   "source": [
    "sample_amount=10000\n",
    "data_ratio=1.2\n",
    "kValue = 100\n",
    "tpr,fpr,BER,f1_score = kNN_validation (X_scaled_CNN,y_scaled_CNN,X_val,y_val,sample_amount,data_ratio,kValue)"
   ]
  },
  {
   "cell_type": "code",
   "execution_count": 12,
   "metadata": {},
   "outputs": [
    {
     "data": {
      "text/plain": [
       "(0.5962471655328798,\n",
       " 0.12191416014508143,\n",
       " 0.2628334973061008,\n",
       " 0.4882121060766165)"
      ]
     },
     "execution_count": 12,
     "metadata": {},
     "output_type": "execute_result"
    }
   ],
   "source": [
    "tpr,fpr,BER,f1_score"
   ]
  }
 ],
 "metadata": {
  "kernelspec": {
   "display_name": "Python 3",
   "language": "python",
   "name": "python3"
  },
  "language_info": {
   "codemirror_mode": {
    "name": "ipython",
    "version": 3
   },
   "file_extension": ".py",
   "mimetype": "text/x-python",
   "name": "python",
   "nbconvert_exporter": "python",
   "pygments_lexer": "ipython3",
   "version": "3.6.2"
  }
 },
 "nbformat": 4,
 "nbformat_minor": 2
}
