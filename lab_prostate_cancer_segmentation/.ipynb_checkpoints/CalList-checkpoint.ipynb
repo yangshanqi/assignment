{
 "cells": [
  {
   "cell_type": "code",
   "execution_count": 1,
   "metadata": {
    "collapsed": true
   },
   "outputs": [],
   "source": [
    "import numpy as np\n",
    "import pandas as pd"
   ]
  },
  {
   "cell_type": "code",
   "execution_count": 9,
   "metadata": {
    "collapsed": true
   },
   "outputs": [],
   "source": [
    "class CalList (object):\n",
    "    \n",
    "    def __init__ (self):\n",
    "        self.tpr_list_cal = []\n",
    "        self.fpr_list_cal = []\n",
    "        self.BER_list_cal = []\n",
    "        self.f1_score_list_cal = []\n",
    "        \n",
    "    def list_append (self,Precall,f1_score,BER,FPR):\n",
    "        self.tpr_list_cal.append(Precall)\n",
    "        self.fpr_list_cal.append(FPR)\n",
    "        self.BER_list_cal.append(BER)\n",
    "        self.f1_score_list_cal.append(f1_score)\n",
    "        \n",
    "    def list_average_cal (self):       \n",
    "        Precall=(sum(self.tpr_list_cal)/len(self.tpr_list_cal))\n",
    "        FPR=(sum(self.fpr_list_cal)/len(self.fpr_list_cal))\n",
    "        BER=(sum(self.BER_list_cal)/len(self.BER_list_cal))\n",
    "        f1_score=(sum(self.f1_score_list_cal)/len(self.f1_score_list_cal))\n",
    "        return Precall,FPR,BER,f1_score"
   ]
  },
  {
   "cell_type": "code",
   "execution_count": 11,
   "metadata": {
    "collapsed": true
   },
   "outputs": [],
   "source": [
    "class CalParList (CalList):\n",
    "\n",
    "    def __init__ (self, number_of_parameter, *par_name):\n",
    "        CalList.__init__(self)\n",
    "        \n",
    "        self.parameter_list = []\n",
    "        for i in range (number_of_parameter):\n",
    "            column=[]\n",
    "            self.parameter_list.append(column)\n",
    "            \n",
    "        j=0\n",
    "        self.Name_String = []\n",
    "        for element in par_name:\n",
    "            self.Name_String.append(element)\n",
    "            j=j+1\n",
    "            \n",
    "    def list_append (self,Precall,f1_score,BER,FPR,*parameter):\n",
    "        \n",
    "        CalList.list_append(self,Precall,f1_score,BER,FPR)\n",
    "        #self.tpr_list_cal.append(Precall)\n",
    "        #self.fpr_list_cal.append(FPR)\n",
    "        #self.BER_list_cal.append(BER)\n",
    "        #self.f1_score_list_cal.append(f1_score)\n",
    "              \n",
    "        interation = 0\n",
    "        for par in parameter:\n",
    "            self.parameter_list[interation].append(par)\n",
    "            interation = interation +1   \n",
    "            \n",
    "    def return_result (self):\n",
    "        result = {\"TPR\":self.tpr_list_cal,\"FPR\":self.fpr_list_cal,\"f1_score\":self.f1_score_list_cal,\"BER\":self.BER_list_cal}\n",
    "        \n",
    "        for i in range(len(self.Name_String)):\n",
    "            result[self.Name_String[i]]=self.parameter_list[i]\n",
    "        \n",
    "        columns = self.Name_String\n",
    "        columns.append(\"f1_score\")\n",
    "        columns.append(\"TPR\")\n",
    "        columns.append(\"FPR\")\n",
    "        columns.append(\"BER\")\n",
    "        result = pd.DataFrame (data=result,columns=columns)\n",
    "        return result"
   ]
  }
 ],
 "metadata": {
  "kernelspec": {
   "display_name": "Python 3",
   "language": "python",
   "name": "python3"
  },
  "language_info": {
   "codemirror_mode": {
    "name": "ipython",
    "version": 3
   },
   "file_extension": ".py",
   "mimetype": "text/x-python",
   "name": "python",
   "nbconvert_exporter": "python",
   "pygments_lexer": "ipython3",
   "version": "3.6.2"
  }
 },
 "nbformat": 4,
 "nbformat_minor": 2
}
