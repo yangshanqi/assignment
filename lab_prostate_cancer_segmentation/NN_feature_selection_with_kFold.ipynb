{
 "cells": [
  {
   "cell_type": "code",
   "execution_count": 2,
   "metadata": {
    "collapsed": true
   },
   "outputs": [],
   "source": [
    "import numpy as np\n",
    "import pandas as pd\n",
    "from scipy.io import loadmat\n",
    "import matplotlib.pyplot as plt"
   ]
  },
  {
   "cell_type": "code",
   "execution_count": 3,
   "metadata": {
    "collapsed": true
   },
   "outputs": [],
   "source": [
    "import sys\n",
    "sys.path.append(r\"C:\\Users\\yangshanqi\\Documents\\lab\\labgithubcopy\\task_1_version_2\")"
   ]
  },
  {
   "cell_type": "code",
   "execution_count": 4,
   "metadata": {
    "collapsed": true
   },
   "outputs": [],
   "source": [
    "from NN_function_with_kFold import nn_feature_selection_wrap\n",
    "from NN_function_with_kFold import nn_validation"
   ]
  },
  {
   "cell_type": "code",
   "execution_count": 5,
   "metadata": {
    "collapsed": true
   },
   "outputs": [],
   "source": [
    "from plot_prediction import nn_plot_prediction"
   ]
  },
  {
   "cell_type": "code",
   "execution_count": 6,
   "metadata": {
    "collapsed": true
   },
   "outputs": [],
   "source": [
    "X_scaled_FCNN=pd.read_csv(\"C:\\\\Users\\\\yangshanqi\\\\Documents\\\\lab\\\\labgithubcopy\\\\task_1_version_2\\\\result\\\\X_scaled_FCNN.csv\")\n",
    "y_scaled_FCNN=pd.read_csv(\"C:\\\\Users\\\\yangshanqi\\\\Documents\\\\lab\\\\labgithubcopy\\\\task_1_version_2\\\\result\\\\y_scaled_FCNN.csv\")\n",
    "X_scaled_CNN=pd.read_csv(\"C:\\\\Users\\\\yangshanqi\\\\Documents\\\\lab\\\\labgithubcopy\\\\task_1_version_2\\\\result\\\\X_scaled_CNN.csv\")\n",
    "y_scaled_CNN=pd.read_csv(\"C:\\\\Users\\\\yangshanqi\\\\Documents\\\\lab\\\\labgithubcopy\\\\task_1_version_2\\\\result\\\\y_scaled_CNN.csv\")\n",
    "X_scaled_kMeans=pd.read_csv(\"C:\\\\Users\\\\yangshanqi\\\\Documents\\\\lab\\\\labgithubcopy\\\\task_1_version_2\\\\result\\\\X_scaled_kMeans.csv\")\n",
    "y_scaled_kMeans=pd.read_csv(\"C:\\\\Users\\\\yangshanqi\\\\Documents\\\\lab\\\\labgithubcopy\\\\task_1_version_2\\\\result\\\\y_scaled_kMeans.csv\")\n",
    "X_val=pd.read_csv(\"C:\\\\Users\\\\yangshanqi\\\\Documents\\\\lab\\\\labgithubcopy\\\\task_1_version_2\\\\result\\\\scaled_validation_feature.csv\")\n",
    "y_val=pd.read_csv(\"C:\\\\Users\\\\yangshanqi\\\\Documents\\\\lab\\\\labgithubcopy\\\\task_1_version_2\\\\result\\\\validation_label.csv\")\n",
    "X_scaled_kMeans=X_scaled_kMeans.drop(\"predict_cluster\",1)\n",
    "y_scaled_kMeans=y_scaled_kMeans.drop(\"predict_cluster\",1)\n",
    "X_val=X_val.drop(\"Unnamed: 0\",1)\n",
    "y_val=y_val.drop(\"Unnamed: 0\",1)"
   ]
  },
  {
   "cell_type": "code",
   "execution_count": 7,
   "metadata": {
    "collapsed": true
   },
   "outputs": [],
   "source": [
    "X_scaled=pd.read_csv(\"C:\\\\Users\\\\yangshanqi\\\\Documents\\\\lab\\\\labgithubcopy\\\\task_1_version_2\\\\result\\\\scaled_train_feature.csv\")\n",
    "y_scaled=pd.read_csv(\"C:\\\\Users\\\\yangshanqi\\\\Documents\\\\lab\\\\labgithubcopy\\\\task_1_version_2\\\\result\\\\train_label.csv\")"
   ]
  },
  {
   "cell_type": "code",
   "execution_count": 7,
   "metadata": {
    "collapsed": true
   },
   "outputs": [],
   "source": [
    "nn_feaure_selection=nn_feature_selection_wrap (X_scaled,y_scaled,0.5)"
   ]
  },
  {
   "cell_type": "code",
   "execution_count": 8,
   "metadata": {
    "scrolled": true
   },
   "outputs": [
    {
     "data": {
      "text/html": [
       "<div>\n",
       "<style>\n",
       "    .dataframe thead tr:only-child th {\n",
       "        text-align: right;\n",
       "    }\n",
       "\n",
       "    .dataframe thead th {\n",
       "        text-align: left;\n",
       "    }\n",
       "\n",
       "    .dataframe tbody tr th {\n",
       "        vertical-align: top;\n",
       "    }\n",
       "</style>\n",
       "<table border=\"1\" class=\"dataframe\">\n",
       "  <thead>\n",
       "    <tr style=\"text-align: right;\">\n",
       "      <th></th>\n",
       "      <th>alpha</th>\n",
       "      <th>feature_0</th>\n",
       "      <th>feature_1</th>\n",
       "      <th>f1_score</th>\n",
       "      <th>TPR</th>\n",
       "      <th>FPR</th>\n",
       "      <th>BER</th>\n",
       "    </tr>\n",
       "  </thead>\n",
       "  <tbody>\n",
       "    <tr>\n",
       "      <th>0</th>\n",
       "      <td>0.500</td>\n",
       "      <td>feature0</td>\n",
       "      <td>feature1</td>\n",
       "      <td>0.563493</td>\n",
       "      <td>0.735375</td>\n",
       "      <td>0.155694</td>\n",
       "      <td>0.210160</td>\n",
       "    </tr>\n",
       "    <tr>\n",
       "      <th>1</th>\n",
       "      <td>0.501</td>\n",
       "      <td>feature0</td>\n",
       "      <td>feature2</td>\n",
       "      <td>0.557830</td>\n",
       "      <td>0.745392</td>\n",
       "      <td>0.165043</td>\n",
       "      <td>0.209826</td>\n",
       "    </tr>\n",
       "    <tr>\n",
       "      <th>2</th>\n",
       "      <td>0.502</td>\n",
       "      <td>feature0</td>\n",
       "      <td>feature3</td>\n",
       "      <td>0.583574</td>\n",
       "      <td>0.728877</td>\n",
       "      <td>0.136897</td>\n",
       "      <td>0.204010</td>\n",
       "    </tr>\n",
       "    <tr>\n",
       "      <th>3</th>\n",
       "      <td>0.503</td>\n",
       "      <td>feature0</td>\n",
       "      <td>feature4</td>\n",
       "      <td>0.555142</td>\n",
       "      <td>0.749711</td>\n",
       "      <td>0.169328</td>\n",
       "      <td>0.209809</td>\n",
       "    </tr>\n",
       "    <tr>\n",
       "      <th>4</th>\n",
       "      <td>0.504</td>\n",
       "      <td>feature1</td>\n",
       "      <td>feature2</td>\n",
       "      <td>0.384419</td>\n",
       "      <td>0.503835</td>\n",
       "      <td>0.198893</td>\n",
       "      <td>0.347529</td>\n",
       "    </tr>\n",
       "    <tr>\n",
       "      <th>5</th>\n",
       "      <td>0.505</td>\n",
       "      <td>feature1</td>\n",
       "      <td>feature3</td>\n",
       "      <td>0.483915</td>\n",
       "      <td>0.640756</td>\n",
       "      <td>0.179324</td>\n",
       "      <td>0.269284</td>\n",
       "    </tr>\n",
       "    <tr>\n",
       "      <th>6</th>\n",
       "      <td>0.506</td>\n",
       "      <td>feature1</td>\n",
       "      <td>feature4</td>\n",
       "      <td>0.421582</td>\n",
       "      <td>0.603649</td>\n",
       "      <td>0.224275</td>\n",
       "      <td>0.310313</td>\n",
       "    </tr>\n",
       "    <tr>\n",
       "      <th>7</th>\n",
       "      <td>0.507</td>\n",
       "      <td>feature2</td>\n",
       "      <td>feature3</td>\n",
       "      <td>0.485502</td>\n",
       "      <td>0.637889</td>\n",
       "      <td>0.176185</td>\n",
       "      <td>0.269148</td>\n",
       "    </tr>\n",
       "    <tr>\n",
       "      <th>8</th>\n",
       "      <td>0.508</td>\n",
       "      <td>feature2</td>\n",
       "      <td>feature4</td>\n",
       "      <td>0.347496</td>\n",
       "      <td>0.636250</td>\n",
       "      <td>0.360546</td>\n",
       "      <td>0.362148</td>\n",
       "    </tr>\n",
       "    <tr>\n",
       "      <th>9</th>\n",
       "      <td>0.509</td>\n",
       "      <td>feature3</td>\n",
       "      <td>feature4</td>\n",
       "      <td>0.506831</td>\n",
       "      <td>0.671737</td>\n",
       "      <td>0.174260</td>\n",
       "      <td>0.251261</td>\n",
       "    </tr>\n",
       "  </tbody>\n",
       "</table>\n",
       "</div>"
      ],
      "text/plain": [
       "   alpha feature_0 feature_1  f1_score       TPR       FPR       BER\n",
       "0  0.500  feature0  feature1  0.563493  0.735375  0.155694  0.210160\n",
       "1  0.501  feature0  feature2  0.557830  0.745392  0.165043  0.209826\n",
       "2  0.502  feature0  feature3  0.583574  0.728877  0.136897  0.204010\n",
       "3  0.503  feature0  feature4  0.555142  0.749711  0.169328  0.209809\n",
       "4  0.504  feature1  feature2  0.384419  0.503835  0.198893  0.347529\n",
       "5  0.505  feature1  feature3  0.483915  0.640756  0.179324  0.269284\n",
       "6  0.506  feature1  feature4  0.421582  0.603649  0.224275  0.310313\n",
       "7  0.507  feature2  feature3  0.485502  0.637889  0.176185  0.269148\n",
       "8  0.508  feature2  feature4  0.347496  0.636250  0.360546  0.362148\n",
       "9  0.509  feature3  feature4  0.506831  0.671737  0.174260  0.251261"
      ]
     },
     "execution_count": 8,
     "metadata": {},
     "output_type": "execute_result"
    }
   ],
   "source": [
    "nn_feaure_selection"
   ]
  },
  {
   "cell_type": "markdown",
   "metadata": {},
   "source": [
    "## validation of the result of feature selection ##"
   ]
  },
  {
   "cell_type": "code",
   "execution_count": 10,
   "metadata": {},
   "outputs": [
    {
     "name": "stdout",
     "output_type": "stream",
     "text": [
      "TPR:0.7710884353741496   f1 score:0.5004415011037529   FPR:0.18885094842093225   BER:0.2088812565233913\n"
     ]
    }
   ],
   "source": [
    "nn_validation (X_scaled.loc[:,['feature0','feature3']],y_scaled,X_val.loc[:,['feature0','feature3']],y_val,0.502)"
   ]
  },
  {
   "cell_type": "code",
   "execution_count": 11,
   "metadata": {},
   "outputs": [
    {
     "name": "stdout",
     "output_type": "stream",
     "text": [
      "TPR:0.7607709750566893   f1 score:0.43596907283477354   FPR:0.24918718447236426   BER:0.24420810470783746\n"
     ]
    }
   ],
   "source": [
    "nn_validation (X_scaled.loc[:,['feature0','feature1']],y_scaled,X_val.loc[:,['feature0','feature1']],y_val,0.500)"
   ]
  },
  {
   "cell_type": "markdown",
   "metadata": {},
   "source": [
    "### validation for filter results ###"
   ]
  },
  {
   "cell_type": "code",
   "execution_count": 8,
   "metadata": {},
   "outputs": [
    {
     "name": "stdout",
     "output_type": "stream",
     "text": [
      "TPR:0.7804988662131519   f1 score:0.5290297790585975   FPR:0.16862450373323312   BER:0.1940628187600406\n"
     ]
    }
   ],
   "source": [
    "nn_validation (X_scaled.loc[:,['feature0','feature2','feature3']],y_scaled,X_val.loc[:,['feature0','feature2','feature3']],y_val,0.500)"
   ]
  }
 ],
 "metadata": {
  "kernelspec": {
   "display_name": "Python 3",
   "language": "python",
   "name": "python3"
  },
  "language_info": {
   "codemirror_mode": {
    "name": "ipython",
    "version": 3
   },
   "file_extension": ".py",
   "mimetype": "text/x-python",
   "name": "python",
   "nbconvert_exporter": "python",
   "pygments_lexer": "ipython3",
   "version": "3.6.2"
  }
 },
 "nbformat": 4,
 "nbformat_minor": 2
}
