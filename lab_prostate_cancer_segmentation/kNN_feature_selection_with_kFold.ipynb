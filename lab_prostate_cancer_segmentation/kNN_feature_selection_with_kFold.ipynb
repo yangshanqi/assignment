{
 "cells": [
  {
   "cell_type": "code",
   "execution_count": 1,
   "metadata": {
    "collapsed": true
   },
   "outputs": [],
   "source": [
    "import numpy as np\n",
    "import pandas as pd\n",
    "from scipy.io import loadmat\n",
    "import matplotlib.pyplot as plt\n",
    "import sys\n",
    "sys.path.append(r\"C:\\Users\\yangshanqi\\Documents\\lab\\labgithubcopy\\task_1_version_2\")"
   ]
  },
  {
   "cell_type": "code",
   "execution_count": 2,
   "metadata": {
    "collapsed": true
   },
   "outputs": [],
   "source": [
    "from kNN_function_with_kFold import kNN_feature_selection_wrap\n",
    "from kNN_function_with_kFold import kNN_validation\n",
    "from plot_prediction import kNN_plot_prediction"
   ]
  },
  {
   "cell_type": "code",
   "execution_count": 3,
   "metadata": {
    "collapsed": true
   },
   "outputs": [],
   "source": [
    "X_scaled=pd.read_csv(\"C:\\\\Users\\\\yangshanqi\\\\Documents\\\\lab\\\\labgithubcopy\\\\task_1_version_2\\\\result\\\\scaled_train_feature.csv\")\n",
    "y_scaled=pd.read_csv(\"C:\\\\Users\\\\yangshanqi\\\\Documents\\\\lab\\\\labgithubcopy\\\\task_1_version_2\\\\result\\\\train_label.csv\")\n",
    "X_scaled_CNN=pd.read_csv(\"C:\\\\Users\\\\yangshanqi\\\\Documents\\\\lab\\\\labgithubcopy\\\\task_1_version_2\\\\result\\\\X_scaled_CNN.csv\")\n",
    "y_scaled_CNN=pd.read_csv(\"C:\\\\Users\\\\yangshanqi\\\\Documents\\\\lab\\\\labgithubcopy\\\\task_1_version_2\\\\result\\\\y_scaled_CNN.csv\")\n",
    "X_val=pd.read_csv(\"C:\\\\Users\\\\yangshanqi\\\\Documents\\\\lab\\\\labgithubcopy\\\\task_1_version_2\\\\result\\\\scaled_validation_feature.csv\")\n",
    "y_val=pd.read_csv(\"C:\\\\Users\\\\yangshanqi\\\\Documents\\\\lab\\\\labgithubcopy\\\\task_1_version_2\\\\result\\\\validation_label.csv\")\n",
    "X_val=X_val.drop(\"Unnamed: 0\",1)\n",
    "y_val=y_val.drop(\"Unnamed: 0\",1)"
   ]
  },
  {
   "cell_type": "code",
   "execution_count": 4,
   "metadata": {
    "scrolled": true
   },
   "outputs": [
    {
     "name": "stdout",
     "output_type": "stream",
     "text": [
      "current feature choosen:\n",
      "('feature0', 'feature1')\n",
      "the total executing time:  0.5minute\n",
      "current feature choosen:\n",
      "('feature0', 'feature2')\n",
      "the total executing time:  0.6minute\n",
      "current feature choosen:\n",
      "('feature0', 'feature3')\n",
      "the total executing time:  0.5minute\n",
      "current feature choosen:\n",
      "('feature0', 'feature4')\n",
      "the total executing time:  0.5minute\n",
      "current feature choosen:\n",
      "('feature1', 'feature2')\n",
      "the total executing time:  0.5minute\n",
      "current feature choosen:\n",
      "('feature1', 'feature3')\n",
      "the total executing time:  0.6minute\n",
      "current feature choosen:\n",
      "('feature1', 'feature4')\n",
      "the total executing time:  0.6minute\n",
      "current feature choosen:\n",
      "('feature2', 'feature3')\n",
      "the total executing time:  0.6minute\n",
      "current feature choosen:\n",
      "('feature2', 'feature4')\n",
      "the total executing time:  0.6minute\n",
      "current feature choosen:\n",
      "('feature3', 'feature4')\n",
      "the total executing time:  0.5minute\n"
     ]
    }
   ],
   "source": [
    "kNN_feature_selection_wrap_result=kNN_feature_selection_wrap (X_scaled,y_scaled,15)"
   ]
  },
  {
   "cell_type": "code",
   "execution_count": 5,
   "metadata": {
    "scrolled": true
   },
   "outputs": [
    {
     "data": {
      "text/plain": [
       "feature0\n",
       "feature0    29.110568\n",
       "feature1    17.807644\n",
       "feature2    12.218647\n",
       "feature3     6.690406\n",
       "Name: f1_score, dtype: float64"
      ]
     },
     "execution_count": 5,
     "metadata": {},
     "output_type": "execute_result"
    }
   ],
   "source": [
    "kNN_feature_selection_wrap_result.groupby(['feature0'])['f1_score'].sum()"
   ]
  },
  {
   "cell_type": "code",
   "execution_count": 6,
   "metadata": {},
   "outputs": [
    {
     "data": {
      "text/plain": [
       "feature0\n",
       "feature0     9.772167\n",
       "feature1    10.509839\n",
       "feature2     6.753033\n",
       "feature3     2.937362\n",
       "Name: BER, dtype: float64"
      ]
     },
     "execution_count": 6,
     "metadata": {},
     "output_type": "execute_result"
    }
   ],
   "source": [
    "kNN_feature_selection_wrap_result.groupby(['feature0'])['BER'].sum()"
   ]
  },
  {
   "cell_type": "code",
   "execution_count": 8,
   "metadata": {},
   "outputs": [
    {
     "data": {
      "text/html": [
       "<div>\n",
       "<style>\n",
       "    .dataframe thead tr:only-child th {\n",
       "        text-align: right;\n",
       "    }\n",
       "\n",
       "    .dataframe thead th {\n",
       "        text-align: left;\n",
       "    }\n",
       "\n",
       "    .dataframe tbody tr th {\n",
       "        vertical-align: top;\n",
       "    }\n",
       "</style>\n",
       "<table border=\"1\" class=\"dataframe\">\n",
       "  <thead>\n",
       "    <tr style=\"text-align: right;\">\n",
       "      <th></th>\n",
       "      <th>label_1_amount</th>\n",
       "      <th>label_2_amount</th>\n",
       "      <th>label 1: label 2 ratio</th>\n",
       "      <th>f1_score</th>\n",
       "      <th>TPR</th>\n",
       "      <th>FPR</th>\n",
       "      <th>BER</th>\n",
       "      <th>time</th>\n",
       "      <th>feature0</th>\n",
       "      <th>feature1</th>\n",
       "    </tr>\n",
       "  </thead>\n",
       "  <tbody>\n",
       "    <tr>\n",
       "      <th>6</th>\n",
       "      <td>10000</td>\n",
       "      <td>10000</td>\n",
       "      <td>1.0</td>\n",
       "      <td>0.776559</td>\n",
       "      <td>0.76840</td>\n",
       "      <td>0.21052</td>\n",
       "      <td>0.22106</td>\n",
       "      <td>0.041864</td>\n",
       "      <td>feature0</td>\n",
       "      <td>feature1</td>\n",
       "    </tr>\n",
       "    <tr>\n",
       "      <th>6</th>\n",
       "      <td>10000</td>\n",
       "      <td>10000</td>\n",
       "      <td>1.0</td>\n",
       "      <td>0.772348</td>\n",
       "      <td>0.76242</td>\n",
       "      <td>0.21182</td>\n",
       "      <td>0.22470</td>\n",
       "      <td>0.038445</td>\n",
       "      <td>feature0</td>\n",
       "      <td>feature2</td>\n",
       "    </tr>\n",
       "    <tr>\n",
       "      <th>6</th>\n",
       "      <td>10000</td>\n",
       "      <td>10000</td>\n",
       "      <td>1.0</td>\n",
       "      <td>0.788338</td>\n",
       "      <td>0.77570</td>\n",
       "      <td>0.19220</td>\n",
       "      <td>0.20825</td>\n",
       "      <td>0.036898</td>\n",
       "      <td>feature0</td>\n",
       "      <td>feature3</td>\n",
       "    </tr>\n",
       "    <tr>\n",
       "      <th>6</th>\n",
       "      <td>10000</td>\n",
       "      <td>10000</td>\n",
       "      <td>1.0</td>\n",
       "      <td>0.776822</td>\n",
       "      <td>0.76146</td>\n",
       "      <td>0.19890</td>\n",
       "      <td>0.21872</td>\n",
       "      <td>0.036944</td>\n",
       "      <td>feature0</td>\n",
       "      <td>feature4</td>\n",
       "    </tr>\n",
       "    <tr>\n",
       "      <th>6</th>\n",
       "      <td>10000</td>\n",
       "      <td>10000</td>\n",
       "      <td>1.0</td>\n",
       "      <td>0.649552</td>\n",
       "      <td>0.65418</td>\n",
       "      <td>0.35992</td>\n",
       "      <td>0.35287</td>\n",
       "      <td>0.038301</td>\n",
       "      <td>feature1</td>\n",
       "      <td>feature2</td>\n",
       "    </tr>\n",
       "    <tr>\n",
       "      <th>6</th>\n",
       "      <td>10000</td>\n",
       "      <td>10000</td>\n",
       "      <td>1.0</td>\n",
       "      <td>0.709579</td>\n",
       "      <td>0.69780</td>\n",
       "      <td>0.26892</td>\n",
       "      <td>0.28556</td>\n",
       "      <td>0.040237</td>\n",
       "      <td>feature1</td>\n",
       "      <td>feature3</td>\n",
       "    </tr>\n",
       "    <tr>\n",
       "      <th>6</th>\n",
       "      <td>10000</td>\n",
       "      <td>10000</td>\n",
       "      <td>1.0</td>\n",
       "      <td>0.702317</td>\n",
       "      <td>0.71306</td>\n",
       "      <td>0.31738</td>\n",
       "      <td>0.30216</td>\n",
       "      <td>0.040979</td>\n",
       "      <td>feature1</td>\n",
       "      <td>feature4</td>\n",
       "    </tr>\n",
       "    <tr>\n",
       "      <th>6</th>\n",
       "      <td>10000</td>\n",
       "      <td>10000</td>\n",
       "      <td>1.0</td>\n",
       "      <td>0.713230</td>\n",
       "      <td>0.70208</td>\n",
       "      <td>0.26652</td>\n",
       "      <td>0.28222</td>\n",
       "      <td>0.041363</td>\n",
       "      <td>feature2</td>\n",
       "      <td>feature3</td>\n",
       "    </tr>\n",
       "    <tr>\n",
       "      <th>6</th>\n",
       "      <td>10000</td>\n",
       "      <td>10000</td>\n",
       "      <td>1.0</td>\n",
       "      <td>0.690547</td>\n",
       "      <td>0.70760</td>\n",
       "      <td>0.34176</td>\n",
       "      <td>0.31708</td>\n",
       "      <td>0.040693</td>\n",
       "      <td>feature2</td>\n",
       "      <td>feature4</td>\n",
       "    </tr>\n",
       "    <tr>\n",
       "      <th>6</th>\n",
       "      <td>10000</td>\n",
       "      <td>10000</td>\n",
       "      <td>1.0</td>\n",
       "      <td>0.733350</td>\n",
       "      <td>0.71670</td>\n",
       "      <td>0.23782</td>\n",
       "      <td>0.26056</td>\n",
       "      <td>0.037255</td>\n",
       "      <td>feature3</td>\n",
       "      <td>feature4</td>\n",
       "    </tr>\n",
       "  </tbody>\n",
       "</table>\n",
       "</div>"
      ],
      "text/plain": [
       "   label_1_amount  label_2_amount  label 1: label 2 ratio  f1_score      TPR  \\\n",
       "6           10000           10000                     1.0  0.776559  0.76840   \n",
       "6           10000           10000                     1.0  0.772348  0.76242   \n",
       "6           10000           10000                     1.0  0.788338  0.77570   \n",
       "6           10000           10000                     1.0  0.776822  0.76146   \n",
       "6           10000           10000                     1.0  0.649552  0.65418   \n",
       "6           10000           10000                     1.0  0.709579  0.69780   \n",
       "6           10000           10000                     1.0  0.702317  0.71306   \n",
       "6           10000           10000                     1.0  0.713230  0.70208   \n",
       "6           10000           10000                     1.0  0.690547  0.70760   \n",
       "6           10000           10000                     1.0  0.733350  0.71670   \n",
       "\n",
       "       FPR      BER      time  feature0  feature1  \n",
       "6  0.21052  0.22106  0.041864  feature0  feature1  \n",
       "6  0.21182  0.22470  0.038445  feature0  feature2  \n",
       "6  0.19220  0.20825  0.036898  feature0  feature3  \n",
       "6  0.19890  0.21872  0.036944  feature0  feature4  \n",
       "6  0.35992  0.35287  0.038301  feature1  feature2  \n",
       "6  0.26892  0.28556  0.040237  feature1  feature3  \n",
       "6  0.31738  0.30216  0.040979  feature1  feature4  \n",
       "6  0.26652  0.28222  0.041363  feature2  feature3  \n",
       "6  0.34176  0.31708  0.040693  feature2  feature4  \n",
       "6  0.23782  0.26056  0.037255  feature3  feature4  "
      ]
     },
     "execution_count": 8,
     "metadata": {},
     "output_type": "execute_result"
    }
   ],
   "source": [
    "kNN_feature_selection_wrap_result.loc[kNN_feature_selection_wrap_result['BER'].idxmin()]"
   ]
  },
  {
   "cell_type": "code",
   "execution_count": 12,
   "metadata": {},
   "outputs": [
    {
     "data": {
      "text/html": [
       "<div>\n",
       "<style>\n",
       "    .dataframe thead tr:only-child th {\n",
       "        text-align: right;\n",
       "    }\n",
       "\n",
       "    .dataframe thead th {\n",
       "        text-align: left;\n",
       "    }\n",
       "\n",
       "    .dataframe tbody tr th {\n",
       "        vertical-align: top;\n",
       "    }\n",
       "</style>\n",
       "<table border=\"1\" class=\"dataframe\">\n",
       "  <thead>\n",
       "    <tr style=\"text-align: right;\">\n",
       "      <th></th>\n",
       "      <th>label_1_amount</th>\n",
       "      <th>label_2_amount</th>\n",
       "      <th>label 1: label 2 ratio</th>\n",
       "      <th>f1_score</th>\n",
       "      <th>TPR</th>\n",
       "      <th>FPR</th>\n",
       "      <th>BER</th>\n",
       "      <th>time</th>\n",
       "      <th>feature0</th>\n",
       "      <th>feature1</th>\n",
       "    </tr>\n",
       "  </thead>\n",
       "  <tbody>\n",
       "    <tr>\n",
       "      <th>5</th>\n",
       "      <td>15000</td>\n",
       "      <td>10000</td>\n",
       "      <td>1.50</td>\n",
       "      <td>0.743314</td>\n",
       "      <td>0.71686</td>\n",
       "      <td>0.141267</td>\n",
       "      <td>0.212203</td>\n",
       "      <td>0.047649</td>\n",
       "      <td>feature0</td>\n",
       "      <td>feature3</td>\n",
       "    </tr>\n",
       "    <tr>\n",
       "      <th>6</th>\n",
       "      <td>10000</td>\n",
       "      <td>10000</td>\n",
       "      <td>1.00</td>\n",
       "      <td>0.788338</td>\n",
       "      <td>0.77570</td>\n",
       "      <td>0.192200</td>\n",
       "      <td>0.208250</td>\n",
       "      <td>0.036898</td>\n",
       "      <td>feature0</td>\n",
       "      <td>feature3</td>\n",
       "    </tr>\n",
       "    <tr>\n",
       "      <th>7</th>\n",
       "      <td>7500</td>\n",
       "      <td>10000</td>\n",
       "      <td>0.75</td>\n",
       "      <td>0.815316</td>\n",
       "      <td>0.81190</td>\n",
       "      <td>0.239600</td>\n",
       "      <td>0.213850</td>\n",
       "      <td>0.031972</td>\n",
       "      <td>feature0</td>\n",
       "      <td>feature3</td>\n",
       "    </tr>\n",
       "    <tr>\n",
       "      <th>6</th>\n",
       "      <td>10000</td>\n",
       "      <td>10000</td>\n",
       "      <td>1.00</td>\n",
       "      <td>0.776822</td>\n",
       "      <td>0.76146</td>\n",
       "      <td>0.198900</td>\n",
       "      <td>0.218720</td>\n",
       "      <td>0.036944</td>\n",
       "      <td>feature0</td>\n",
       "      <td>feature4</td>\n",
       "    </tr>\n",
       "  </tbody>\n",
       "</table>\n",
       "</div>"
      ],
      "text/plain": [
       "   label_1_amount  label_2_amount  label 1: label 2 ratio  f1_score      TPR  \\\n",
       "5           15000           10000                    1.50  0.743314  0.71686   \n",
       "6           10000           10000                    1.00  0.788338  0.77570   \n",
       "7            7500           10000                    0.75  0.815316  0.81190   \n",
       "6           10000           10000                    1.00  0.776822  0.76146   \n",
       "\n",
       "        FPR       BER      time  feature0  feature1  \n",
       "5  0.141267  0.212203  0.047649  feature0  feature3  \n",
       "6  0.192200  0.208250  0.036898  feature0  feature3  \n",
       "7  0.239600  0.213850  0.031972  feature0  feature3  \n",
       "6  0.198900  0.218720  0.036944  feature0  feature4  "
      ]
     },
     "execution_count": 12,
     "metadata": {},
     "output_type": "execute_result"
    }
   ],
   "source": [
    "kNN_feature_selection_wrap_result[kNN_feature_selection_wrap_result['BER']<0.22]"
   ]
  },
  {
   "cell_type": "markdown",
   "metadata": {},
   "source": [
    "### validation for that ###"
   ]
  },
  {
   "cell_type": "code",
   "execution_count": 14,
   "metadata": {
    "collapsed": true
   },
   "outputs": [],
   "source": [
    "sample_amount=10000\n",
    "data_ratio=1\n",
    "kValue = 15\n",
    "tpr,fpr,BER,f1_score = kNN_validation (X_scaled.loc[:,['feature0','feature3']],y_scaled,X_val.loc[:,['feature0','feature3']],y_val,sample_amount,data_ratio,kValue)"
   ]
  },
  {
   "cell_type": "code",
   "execution_count": 15,
   "metadata": {},
   "outputs": [
    {
     "data": {
      "text/plain": [
       "(0.7962358276643992,\n",
       " 0.3186547290342608,\n",
       " 0.26120945068493084,\n",
       " 0.3974499504003519)"
      ]
     },
     "execution_count": 15,
     "metadata": {},
     "output_type": "execute_result"
    }
   ],
   "source": [
    "tpr,fpr,BER,f1_score"
   ]
  },
  {
   "cell_type": "code",
   "execution_count": 4,
   "metadata": {
    "scrolled": true
   },
   "outputs": [
    {
     "name": "stdout",
     "output_type": "stream",
     "text": [
      "current feature choosen:\n",
      "('feature0', 'feature1')\n",
      "the total executing time:  1.0minute\n",
      "current feature choosen:\n",
      "('feature0', 'feature2')\n",
      "the total executing time:  1.0minute\n",
      "current feature choosen:\n",
      "('feature0', 'feature3')\n",
      "the total executing time:  1.0minute\n",
      "current feature choosen:\n",
      "('feature0', 'feature4')\n",
      "the total executing time:  1.0minute\n",
      "current feature choosen:\n",
      "('feature1', 'feature2')\n",
      "the total executing time:  1.0minute\n",
      "current feature choosen:\n",
      "('feature1', 'feature3')\n",
      "the total executing time:  1.0minute\n",
      "current feature choosen:\n",
      "('feature1', 'feature4')\n",
      "the total executing time:  1.0minute\n",
      "current feature choosen:\n",
      "('feature2', 'feature3')\n",
      "the total executing time:  1.0minute\n",
      "current feature choosen:\n",
      "('feature2', 'feature4')\n",
      "the total executing time:  1.0minute\n",
      "current feature choosen:\n",
      "('feature3', 'feature4')\n",
      "the total executing time:  1.0minute\n"
     ]
    }
   ],
   "source": [
    "kNN_feature_selection_wrap_result_2=kNN_feature_selection_wrap (X_scaled,y_scaled,100)"
   ]
  },
  {
   "cell_type": "code",
   "execution_count": 7,
   "metadata": {},
   "outputs": [
    {
     "data": {
      "text/html": [
       "<div>\n",
       "<style>\n",
       "    .dataframe thead tr:only-child th {\n",
       "        text-align: right;\n",
       "    }\n",
       "\n",
       "    .dataframe thead th {\n",
       "        text-align: left;\n",
       "    }\n",
       "\n",
       "    .dataframe tbody tr th {\n",
       "        vertical-align: top;\n",
       "    }\n",
       "</style>\n",
       "<table border=\"1\" class=\"dataframe\">\n",
       "  <thead>\n",
       "    <tr style=\"text-align: right;\">\n",
       "      <th></th>\n",
       "      <th>label_1_amount</th>\n",
       "      <th>label_2_amount</th>\n",
       "      <th>label 1: label 2 ratio</th>\n",
       "      <th>f1_score</th>\n",
       "      <th>TPR</th>\n",
       "      <th>FPR</th>\n",
       "      <th>BER</th>\n",
       "      <th>time</th>\n",
       "      <th>feature0</th>\n",
       "      <th>feature1</th>\n",
       "    </tr>\n",
       "  </thead>\n",
       "  <tbody>\n",
       "    <tr>\n",
       "      <th>6</th>\n",
       "      <td>10000</td>\n",
       "      <td>10000</td>\n",
       "      <td>1.00</td>\n",
       "      <td>0.790554</td>\n",
       "      <td>0.78046</td>\n",
       "      <td>0.193900</td>\n",
       "      <td>0.206720</td>\n",
       "      <td>0.074438</td>\n",
       "      <td>feature0</td>\n",
       "      <td>feature1</td>\n",
       "    </tr>\n",
       "    <tr>\n",
       "      <th>5</th>\n",
       "      <td>15000</td>\n",
       "      <td>10000</td>\n",
       "      <td>1.50</td>\n",
       "      <td>0.758698</td>\n",
       "      <td>0.72942</td>\n",
       "      <td>0.128907</td>\n",
       "      <td>0.199743</td>\n",
       "      <td>0.093592</td>\n",
       "      <td>feature0</td>\n",
       "      <td>feature3</td>\n",
       "    </tr>\n",
       "    <tr>\n",
       "      <th>6</th>\n",
       "      <td>10000</td>\n",
       "      <td>10000</td>\n",
       "      <td>1.00</td>\n",
       "      <td>0.802319</td>\n",
       "      <td>0.78766</td>\n",
       "      <td>0.175760</td>\n",
       "      <td>0.194050</td>\n",
       "      <td>0.074495</td>\n",
       "      <td>feature0</td>\n",
       "      <td>feature3</td>\n",
       "    </tr>\n",
       "    <tr>\n",
       "      <th>7</th>\n",
       "      <td>7500</td>\n",
       "      <td>10000</td>\n",
       "      <td>0.75</td>\n",
       "      <td>0.825977</td>\n",
       "      <td>0.82160</td>\n",
       "      <td>0.223653</td>\n",
       "      <td>0.201027</td>\n",
       "      <td>0.064821</td>\n",
       "      <td>feature0</td>\n",
       "      <td>feature3</td>\n",
       "    </tr>\n",
       "    <tr>\n",
       "      <th>6</th>\n",
       "      <td>10000</td>\n",
       "      <td>10000</td>\n",
       "      <td>1.00</td>\n",
       "      <td>0.787117</td>\n",
       "      <td>0.76648</td>\n",
       "      <td>0.180980</td>\n",
       "      <td>0.207250</td>\n",
       "      <td>0.074279</td>\n",
       "      <td>feature0</td>\n",
       "      <td>feature4</td>\n",
       "    </tr>\n",
       "  </tbody>\n",
       "</table>\n",
       "</div>"
      ],
      "text/plain": [
       "   label_1_amount  label_2_amount  label 1: label 2 ratio  f1_score      TPR  \\\n",
       "6           10000           10000                    1.00  0.790554  0.78046   \n",
       "5           15000           10000                    1.50  0.758698  0.72942   \n",
       "6           10000           10000                    1.00  0.802319  0.78766   \n",
       "7            7500           10000                    0.75  0.825977  0.82160   \n",
       "6           10000           10000                    1.00  0.787117  0.76648   \n",
       "\n",
       "        FPR       BER      time  feature0  feature1  \n",
       "6  0.193900  0.206720  0.074438  feature0  feature1  \n",
       "5  0.128907  0.199743  0.093592  feature0  feature3  \n",
       "6  0.175760  0.194050  0.074495  feature0  feature3  \n",
       "7  0.223653  0.201027  0.064821  feature0  feature3  \n",
       "6  0.180980  0.207250  0.074279  feature0  feature4  "
      ]
     },
     "execution_count": 7,
     "metadata": {},
     "output_type": "execute_result"
    }
   ],
   "source": [
    "kNN_feature_selection_wrap_result_2[kNN_feature_selection_wrap_result_2['BER']<0.21]"
   ]
  },
  {
   "cell_type": "code",
   "execution_count": 8,
   "metadata": {
    "collapsed": true
   },
   "outputs": [],
   "source": [
    "sample_amount=10000\n",
    "data_ratio=1\n",
    "kValue = 100\n",
    "tpr,fpr,BER,f1_score = kNN_validation (X_scaled.loc[:,['feature0','feature3']],y_scaled,X_val.loc[:,['feature0','feature3']],y_val,sample_amount,data_ratio,kValue)"
   ]
  },
  {
   "cell_type": "code",
   "execution_count": 9,
   "metadata": {},
   "outputs": [
    {
     "data": {
      "text/plain": [
       "(0.823764172335601,\n",
       " 0.2939827143954123,\n",
       " 0.23510927102990564,\n",
       " 0.42651077033656276)"
      ]
     },
     "execution_count": 9,
     "metadata": {},
     "output_type": "execute_result"
    }
   ],
   "source": [
    "tpr,fpr,BER,f1_score "
   ]
  },
  {
   "cell_type": "markdown",
   "metadata": {},
   "source": [
    "### validation for filter results ###"
   ]
  },
  {
   "cell_type": "code",
   "execution_count": 14,
   "metadata": {},
   "outputs": [],
   "source": [
    "sample_amount=10000\n",
    "data_ratio=1\n",
    "kValue = 15\n",
    "tpr,fpr,BER,f1_score = kNN_validation (X_scaled.loc[:,['feature0','feature2','feature3']],y_scaled,X_val.loc[:,['feature0','feature2','feature3']],y_val,sample_amount,data_ratio,kValue) "
   ]
  },
  {
   "cell_type": "code",
   "execution_count": 15,
   "metadata": {},
   "outputs": [
    {
     "data": {
      "text/plain": [
       "(0.7985714285714287,\n",
       " 0.30461875275703754,\n",
       " 0.25302366209280447,\n",
       " 0.40830214603574716)"
      ]
     },
     "execution_count": 15,
     "metadata": {},
     "output_type": "execute_result"
    }
   ],
   "source": [
    "tpr,fpr,BER,f1_score"
   ]
  }
 ],
 "metadata": {
  "kernelspec": {
   "display_name": "Python 3",
   "language": "python",
   "name": "python3"
  },
  "language_info": {
   "codemirror_mode": {
    "name": "ipython",
    "version": 3
   },
   "file_extension": ".py",
   "mimetype": "text/x-python",
   "name": "python",
   "nbconvert_exporter": "python",
   "pygments_lexer": "ipython3",
   "version": "3.6.2"
  }
 },
 "nbformat": 4,
 "nbformat_minor": 2
}
